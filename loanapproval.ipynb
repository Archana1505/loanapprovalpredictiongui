{
 "cells": [
  {
   "cell_type": "code",
   "execution_count": 1,
   "id": "907c2866",
   "metadata": {},
   "outputs": [],
   "source": [
    "import numpy as np\n",
    "import pandas as pd\n",
    "import matplotlib.pyplot as plt\n",
    "import seaborn as sns\n"
   ]
  },
  {
   "cell_type": "code",
   "execution_count": 2,
   "id": "da4b4132",
   "metadata": {},
   "outputs": [],
   "source": [
    "dfd=pd.read_excel(\"C:\\\\Users\\\\91939\\\\Downloads\\\\Copy of loan.xlsx\")\n",
    "df=dfd.copy()"
   ]
  },
  {
   "cell_type": "code",
   "execution_count": 3,
   "id": "430410e1",
   "metadata": {},
   "outputs": [
    {
     "data": {
      "text/html": [
       "<div>\n",
       "<style scoped>\n",
       "    .dataframe tbody tr th:only-of-type {\n",
       "        vertical-align: middle;\n",
       "    }\n",
       "\n",
       "    .dataframe tbody tr th {\n",
       "        vertical-align: top;\n",
       "    }\n",
       "\n",
       "    .dataframe thead th {\n",
       "        text-align: right;\n",
       "    }\n",
       "</style>\n",
       "<table border=\"1\" class=\"dataframe\">\n",
       "  <thead>\n",
       "    <tr style=\"text-align: right;\">\n",
       "      <th></th>\n",
       "      <th>Loan_ID</th>\n",
       "      <th>Gender</th>\n",
       "      <th>Married</th>\n",
       "      <th>Dependents</th>\n",
       "      <th>Education</th>\n",
       "      <th>Self_Employed</th>\n",
       "      <th>ApplicantIncome</th>\n",
       "      <th>CoapplicantIncome</th>\n",
       "      <th>LoanAmount</th>\n",
       "      <th>Loan_Amount_Term</th>\n",
       "      <th>Credit_History</th>\n",
       "      <th>Property_Area</th>\n",
       "      <th>Loan_Status</th>\n",
       "    </tr>\n",
       "  </thead>\n",
       "  <tbody>\n",
       "    <tr>\n",
       "      <th>0</th>\n",
       "      <td>LP001002</td>\n",
       "      <td>Male</td>\n",
       "      <td>No</td>\n",
       "      <td>0</td>\n",
       "      <td>Graduate</td>\n",
       "      <td>No</td>\n",
       "      <td>5849</td>\n",
       "      <td>0.0</td>\n",
       "      <td>NaN</td>\n",
       "      <td>360.0</td>\n",
       "      <td>1.0</td>\n",
       "      <td>Urban</td>\n",
       "      <td>Y</td>\n",
       "    </tr>\n",
       "    <tr>\n",
       "      <th>1</th>\n",
       "      <td>LP001003</td>\n",
       "      <td>Male</td>\n",
       "      <td>Yes</td>\n",
       "      <td>1</td>\n",
       "      <td>Graduate</td>\n",
       "      <td>No</td>\n",
       "      <td>4583</td>\n",
       "      <td>1508.0</td>\n",
       "      <td>128.0</td>\n",
       "      <td>360.0</td>\n",
       "      <td>1.0</td>\n",
       "      <td>Rural</td>\n",
       "      <td>N</td>\n",
       "    </tr>\n",
       "    <tr>\n",
       "      <th>2</th>\n",
       "      <td>LP001005</td>\n",
       "      <td>Male</td>\n",
       "      <td>Yes</td>\n",
       "      <td>0</td>\n",
       "      <td>Graduate</td>\n",
       "      <td>Yes</td>\n",
       "      <td>3000</td>\n",
       "      <td>0.0</td>\n",
       "      <td>66.0</td>\n",
       "      <td>360.0</td>\n",
       "      <td>1.0</td>\n",
       "      <td>Urban</td>\n",
       "      <td>Y</td>\n",
       "    </tr>\n",
       "    <tr>\n",
       "      <th>3</th>\n",
       "      <td>LP001006</td>\n",
       "      <td>Male</td>\n",
       "      <td>Yes</td>\n",
       "      <td>0</td>\n",
       "      <td>Not Graduate</td>\n",
       "      <td>No</td>\n",
       "      <td>2583</td>\n",
       "      <td>2358.0</td>\n",
       "      <td>120.0</td>\n",
       "      <td>360.0</td>\n",
       "      <td>1.0</td>\n",
       "      <td>Urban</td>\n",
       "      <td>Y</td>\n",
       "    </tr>\n",
       "    <tr>\n",
       "      <th>4</th>\n",
       "      <td>LP001008</td>\n",
       "      <td>Male</td>\n",
       "      <td>No</td>\n",
       "      <td>0</td>\n",
       "      <td>Graduate</td>\n",
       "      <td>No</td>\n",
       "      <td>6000</td>\n",
       "      <td>0.0</td>\n",
       "      <td>141.0</td>\n",
       "      <td>360.0</td>\n",
       "      <td>1.0</td>\n",
       "      <td>Urban</td>\n",
       "      <td>Y</td>\n",
       "    </tr>\n",
       "  </tbody>\n",
       "</table>\n",
       "</div>"
      ],
      "text/plain": [
       "    Loan_ID Gender Married Dependents     Education Self_Employed  \\\n",
       "0  LP001002   Male      No          0      Graduate            No   \n",
       "1  LP001003   Male     Yes          1      Graduate            No   \n",
       "2  LP001005   Male     Yes          0      Graduate           Yes   \n",
       "3  LP001006   Male     Yes          0  Not Graduate            No   \n",
       "4  LP001008   Male      No          0      Graduate            No   \n",
       "\n",
       "   ApplicantIncome  CoapplicantIncome  LoanAmount  Loan_Amount_Term  \\\n",
       "0             5849                0.0         NaN             360.0   \n",
       "1             4583             1508.0       128.0             360.0   \n",
       "2             3000                0.0        66.0             360.0   \n",
       "3             2583             2358.0       120.0             360.0   \n",
       "4             6000                0.0       141.0             360.0   \n",
       "\n",
       "   Credit_History Property_Area Loan_Status  \n",
       "0             1.0         Urban           Y  \n",
       "1             1.0         Rural           N  \n",
       "2             1.0         Urban           Y  \n",
       "3             1.0         Urban           Y  \n",
       "4             1.0         Urban           Y  "
      ]
     },
     "execution_count": 3,
     "metadata": {},
     "output_type": "execute_result"
    }
   ],
   "source": [
    "df.head()"
   ]
  },
  {
   "cell_type": "code",
   "execution_count": 6,
   "id": "05491b34",
   "metadata": {},
   "outputs": [
    {
     "name": "stdout",
     "output_type": "stream",
     "text": [
      "<class 'pandas.core.frame.DataFrame'>\n",
      "RangeIndex: 614 entries, 0 to 613\n",
      "Data columns (total 13 columns):\n",
      " #   Column             Non-Null Count  Dtype  \n",
      "---  ------             --------------  -----  \n",
      " 0   Loan_ID            614 non-null    object \n",
      " 1   Gender             601 non-null    object \n",
      " 2   Married            611 non-null    object \n",
      " 3   Dependents         599 non-null    object \n",
      " 4   Education          614 non-null    object \n",
      " 5   Self_Employed      582 non-null    object \n",
      " 6   ApplicantIncome    614 non-null    int64  \n",
      " 7   CoapplicantIncome  614 non-null    float64\n",
      " 8   LoanAmount         592 non-null    float64\n",
      " 9   Loan_Amount_Term   600 non-null    float64\n",
      " 10  Credit_History     564 non-null    float64\n",
      " 11  Property_Area      614 non-null    object \n",
      " 12  Loan_Status        614 non-null    object \n",
      "dtypes: float64(4), int64(1), object(8)\n",
      "memory usage: 62.5+ KB\n"
     ]
    }
   ],
   "source": [
    "df.info()"
   ]
  },
  {
   "cell_type": "code",
   "execution_count": 5,
   "id": "fba250e7",
   "metadata": {},
   "outputs": [
    {
     "data": {
      "text/plain": [
       "Loan_ID               0\n",
       "Gender               13\n",
       "Married               3\n",
       "Dependents           15\n",
       "Education             0\n",
       "Self_Employed        32\n",
       "ApplicantIncome       0\n",
       "CoapplicantIncome     0\n",
       "LoanAmount           22\n",
       "Loan_Amount_Term     14\n",
       "Credit_History       50\n",
       "Property_Area         0\n",
       "Loan_Status           0\n",
       "dtype: int64"
      ]
     },
     "execution_count": 5,
     "metadata": {},
     "output_type": "execute_result"
    }
   ],
   "source": [
    "df.isnull().sum()"
   ]
  },
  {
   "cell_type": "code",
   "execution_count": 7,
   "id": "7681f00b",
   "metadata": {},
   "outputs": [
    {
     "data": {
      "text/plain": [
       "(614, 13)"
      ]
     },
     "execution_count": 7,
     "metadata": {},
     "output_type": "execute_result"
    }
   ],
   "source": [
    "df.shape"
   ]
  },
  {
   "cell_type": "code",
   "execution_count": 19,
   "id": "9f0ec04b",
   "metadata": {},
   "outputs": [
    {
     "data": {
      "text/plain": [
       "Loan_Status\n",
       "Y    422\n",
       "N    192\n",
       "Name: count, dtype: int64"
      ]
     },
     "execution_count": 19,
     "metadata": {},
     "output_type": "execute_result"
    }
   ],
   "source": [
    "df[\"Loan_Status\"].value_counts()"
   ]
  },
  {
   "cell_type": "code",
   "execution_count": 20,
   "id": "10652b9e",
   "metadata": {},
   "outputs": [
    {
     "data": {
      "text/plain": [
       "<Axes: >"
      ]
     },
     "execution_count": 20,
     "metadata": {},
     "output_type": "execute_result"
    },
    {
     "data": {
      "image/png": "[encoded data removed]",
      "text/plain": [
       "<Figure size 640x480 with 1 Axes>"
      ]
     },
     "metadata": {},
     "output_type": "display_data"
    }
   ],
   "source": [
    "df[\"logamount\"]=np.log(df[\"LoanAmount\"])\n",
    "df[\"logamount\"].hist(bins=20)"
   ]
  },
  {
   "cell_type": "code",
   "execution_count": 21,
   "id": "5b250f4e",
   "metadata": {},
   "outputs": [
    {
     "data": {
      "text/plain": [
       "0           NaN\n",
       "1      4.852030\n",
       "2      4.189655\n",
       "3      4.787492\n",
       "4      4.948760\n",
       "         ...   \n",
       "609    4.262680\n",
       "610    3.688879\n",
       "611    5.533389\n",
       "612    5.231109\n",
       "613    4.890349\n",
       "Name: logamount, Length: 614, dtype: float64"
      ]
     },
     "execution_count": 21,
     "metadata": {},
     "output_type": "execute_result"
    }
   ],
   "source": [
    "df[\"logamount\"]"
   ]
  },
  {
   "cell_type": "code",
   "execution_count": 22,
   "id": "3be395d7",
   "metadata": {},
   "outputs": [
    {
     "data": {
      "text/plain": [
       "<Axes: >"
      ]
     },
     "execution_count": 22,
     "metadata": {},
     "output_type": "execute_result"
    },
    {
     "data": {
      "image/png": "[encoded data removed]",
      "text/plain": [
       "<Figure size 640x480 with 1 Axes>"
      ]
     },
     "metadata": {},
     "output_type": "display_data"
    }
   ],
   "source": [
    "df[\"Totalincome\"]=df[\"ApplicantIncome\"]+df[\"CoapplicantIncome\"]\n",
    "df[\"totalincome_log\"]=np.log(df[\"Totalincome\"])\n",
    "df[\"totalincome_log\"].hist(bins=20)"
   ]
  },
  {
   "cell_type": "code",
   "execution_count": 23,
   "id": "e6e3c129",
   "metadata": {},
   "outputs": [
    {
     "data": {
      "text/plain": [
       "0      8.674026\n",
       "1      8.714568\n",
       "2      8.006368\n",
       "3      8.505323\n",
       "4      8.699515\n",
       "         ...   \n",
       "609    7.972466\n",
       "610    8.320205\n",
       "611    9.025456\n",
       "612    8.933664\n",
       "613    8.430109\n",
       "Name: totalincome_log, Length: 614, dtype: float64"
      ]
     },
     "execution_count": 23,
     "metadata": {},
     "output_type": "execute_result"
    }
   ],
   "source": [
    "df[\"totalincome_log\"]"
   ]
  },
  {
   "cell_type": "code",
   "execution_count": 24,
   "id": "99e49d03",
   "metadata": {},
   "outputs": [
    {
     "data": {
      "text/plain": [
       "0      5849.0\n",
       "1      6091.0\n",
       "2      3000.0\n",
       "3      4941.0\n",
       "4      6000.0\n",
       "        ...  \n",
       "609    2900.0\n",
       "610    4106.0\n",
       "611    8312.0\n",
       "612    7583.0\n",
       "613    4583.0\n",
       "Name: Totalincome, Length: 614, dtype: float64"
      ]
     },
     "execution_count": 24,
     "metadata": {},
     "output_type": "execute_result"
    }
   ],
   "source": [
    "df[\"Totalincome\"]"
   ]
  },
  {
   "cell_type": "code",
   "execution_count": 25,
   "id": "a92991e7",
   "metadata": {},
   "outputs": [
    {
     "data": {
      "text/plain": [
       "Loan_ID              0\n",
       "Gender               0\n",
       "Married              0\n",
       "Dependents           0\n",
       "Education            0\n",
       "Self_Employed        0\n",
       "ApplicantIncome      0\n",
       "CoapplicantIncome    0\n",
       "LoanAmount           0\n",
       "Loan_Amount_Term     0\n",
       "Credit_History       0\n",
       "Property_Area        0\n",
       "Loan_Status          0\n",
       "logamount            0\n",
       "Totalincome          0\n",
       "totalincome_log      0\n",
       "dtype: int64"
      ]
     },
     "execution_count": 25,
     "metadata": {},
     "output_type": "execute_result"
    }
   ],
   "source": [
    "df[\"Gender\"].fillna(df[\"Gender\"].mode()[0],inplace=True)\n",
    "df[\"Married\"].fillna(df[\"Married\"].mode()[0],inplace=True)\n",
    "df[\"Dependents\"].fillna(df[\"Dependents\"].mode()[0],inplace=True)\n",
    "df[\"Self_Employed\"].fillna(df[\"Self_Employed\"].mode()[0],inplace=True)\n",
    "df[\"Credit_History\"].fillna(df[\"Credit_History\"].mode()[0],inplace=True)\n",
    "df[\"Loan_Amount_Term\"].fillna(df[\"Loan_Amount_Term\"].mode()[0],inplace=True)\n",
    "df[\"LoanAmount\"]=df[\"LoanAmount\"].fillna(df[\"LoanAmount\"].mean())\n",
    "df[\"logamount\"]=df[\"logamount\"].fillna(df[\"logamount\"].mean())\n",
    "df.isnull().sum()"
   ]
  },
  {
   "cell_type": "code",
   "execution_count": 26,
   "id": "eededbf8",
   "metadata": {},
   "outputs": [
    {
     "data": {
      "text/plain": [
       "<Axes: xlabel='Gender', ylabel='count'>"
      ]
     },
     "execution_count": 26,
     "metadata": {},
     "output_type": "execute_result"
    },
    {
     "data": {
      "image/png": "[encoded data removed]",
      "text/plain": [
       "<Figure size 640x480 with 1 Axes>"
      ]
     },
     "metadata": {},
     "output_type": "display_data"
    }
   ],
   "source": [
    "sns.countplot(x=\"Gender\",data=df,hue=\"Loan_Status\",palette=\"Set1\")"
   ]
  },
  {
   "cell_type": "code",
   "execution_count": 27,
   "id": "8aba94af",
   "metadata": {},
   "outputs": [
    {
     "data": {
      "text/plain": [
       "<Axes: xlabel='Dependents', ylabel='count'>"
      ]
     },
     "execution_count": 27,
     "metadata": {},
     "output_type": "execute_result"
    },
    {
     "data": {
      "image/png": "[encoded data removed]",
      "text/plain": [
       "<Figure size 640x480 with 1 Axes>"
      ]
     },
     "metadata": {},
     "output_type": "display_data"
    }
   ],
   "source": [
    "sns.countplot(x=\"Dependents\",data=df,hue=\"Loan_Status\",palette=\"Set1\")"
   ]
  },
  {
   "cell_type": "code",
   "execution_count": 28,
   "id": "63fa5db1",
   "metadata": {},
   "outputs": [
    {
     "data": {
      "text/plain": [
       "<Axes: xlabel='Married', ylabel='count'>"
      ]
     },
     "execution_count": 28,
     "metadata": {},
     "output_type": "execute_result"
    },
    {
     "data": {
      "image/png": "[encoded data removed]",
      "text/plain": [
       "<Figure size 640x480 with 1 Axes>"
      ]
     },
     "metadata": {},
     "output_type": "display_data"
    }
   ],
   "source": [
    "sns.countplot(x=\"Married\",data=df,hue=\"Loan_Status\",palette=\"Set1\")"
   ]
  },
  {
   "cell_type": "code",
   "execution_count": 29,
   "id": "57890a00",
   "metadata": {},
   "outputs": [
    {
     "data": {
      "text/plain": [
       "<Axes: xlabel='Education', ylabel='count'>"
      ]
     },
     "execution_count": 29,
     "metadata": {},
     "output_type": "execute_result"
    },
    {
     "data": {
      "image/png": "[encoded data removed]",
      "text/plain": [
       "<Figure size 640x480 with 1 Axes>"
      ]
     },
     "metadata": {},
     "output_type": "display_data"
    }
   ],
   "source": [
    "sns.countplot(x=\"Education\",data=df,hue=\"Loan_Status\",palette=\"Set1\")"
   ]
  },
  {
   "cell_type": "code",
   "execution_count": 30,
   "id": "ba7acb65",
   "metadata": {},
   "outputs": [
    {
     "data": {
      "text/plain": [
       "<Axes: xlabel='Self_Employed', ylabel='count'>"
      ]
     },
     "execution_count": 30,
     "metadata": {},
     "output_type": "execute_result"
    },
    {
     "data": {
      "image/png": "[encoded data removed]",
      "text/plain": [
       "<Figure size 640x480 with 1 Axes>"
      ]
     },
     "metadata": {},
     "output_type": "display_data"
    }
   ],
   "source": [
    "sns.countplot(x=\"Self_Employed\",data=df,hue=\"Loan_Status\",palette=\"Set1\")"
   ]
  },
  {
   "cell_type": "code",
   "execution_count": 31,
   "id": "1a0196ab",
   "metadata": {},
   "outputs": [
    {
     "data": {
      "text/plain": [
       "<Axes: xlabel='Credit_History', ylabel='count'>"
      ]
     },
     "execution_count": 31,
     "metadata": {},
     "output_type": "execute_result"
    },
    {
     "data": {
      "image/png": "[encoded data removed]",
      "text/plain": [
       "<Figure size 640x480 with 1 Axes>"
      ]
     },
     "metadata": {},
     "output_type": "display_data"
    }
   ],
   "source": [
    "sns.countplot(x=\"Credit_History\",data=df,hue=\"Loan_Status\",palette=\"Set1\")"
   ]
  },
  {
   "cell_type": "code",
   "execution_count": 32,
   "id": "ef98df72",
   "metadata": {},
   "outputs": [
    {
     "data": {
      "text/plain": [
       "<Axes: xlabel='Property_Area', ylabel='count'>"
      ]
     },
     "execution_count": 32,
     "metadata": {},
     "output_type": "execute_result"
    },
    {
     "data": {
      "image/png": "[encoded data removed]",
      "text/plain": [
       "<Figure size 640x480 with 1 Axes>"
      ]
     },
     "metadata": {},
     "output_type": "display_data"
    }
   ],
   "source": [
    "sns.countplot(x=\"Property_Area\",data=df,hue=\"Loan_Status\",palette=\"Set1\")"
   ]
  },
  {
   "cell_type": "code",
   "execution_count": 33,
   "id": "2def12c8",
   "metadata": {},
   "outputs": [],
   "source": [
    "#building a balanced dataframe\n",
    "approved=df[df[\"Loan_Status\"]==\"Y\"]\n",
    "not_approved=df[df[\"Loan_Status\"]==\"N\"]\n"
   ]
  },
  {
   "cell_type": "code",
   "execution_count": 34,
   "id": "776f2469",
   "metadata": {},
   "outputs": [],
   "source": [
    "approved_sample=approved.sample(n=192)\n",
    "new_df=pd.concat([approved_sample,not_approved],axis=0)"
   ]
  },
  {
   "cell_type": "code",
   "execution_count": 35,
   "id": "65e86dba",
   "metadata": {},
   "outputs": [
    {
     "data": {
      "text/html": [
       "<div>\n",
       "<style scoped>\n",
       "    .dataframe tbody tr th:only-of-type {\n",
       "        vertical-align: middle;\n",
       "    }\n",
       "\n",
       "    .dataframe tbody tr th {\n",
       "        vertical-align: top;\n",
       "    }\n",
       "\n",
       "    .dataframe thead th {\n",
       "        text-align: right;\n",
       "    }\n",
       "</style>\n",
       "<table border=\"1\" class=\"dataframe\">\n",
       "  <thead>\n",
       "    <tr style=\"text-align: right;\">\n",
       "      <th></th>\n",
       "      <th>Loan_ID</th>\n",
       "      <th>Gender</th>\n",
       "      <th>Married</th>\n",
       "      <th>Dependents</th>\n",
       "      <th>Education</th>\n",
       "      <th>Self_Employed</th>\n",
       "      <th>ApplicantIncome</th>\n",
       "      <th>CoapplicantIncome</th>\n",
       "      <th>LoanAmount</th>\n",
       "      <th>Loan_Amount_Term</th>\n",
       "      <th>Credit_History</th>\n",
       "      <th>Property_Area</th>\n",
       "      <th>Loan_Status</th>\n",
       "      <th>logamount</th>\n",
       "      <th>Totalincome</th>\n",
       "      <th>totalincome_log</th>\n",
       "    </tr>\n",
       "  </thead>\n",
       "  <tbody>\n",
       "    <tr>\n",
       "      <th>485</th>\n",
       "      <td>LP002544</td>\n",
       "      <td>Male</td>\n",
       "      <td>Yes</td>\n",
       "      <td>1</td>\n",
       "      <td>Not Graduate</td>\n",
       "      <td>No</td>\n",
       "      <td>1958</td>\n",
       "      <td>2436.0</td>\n",
       "      <td>131.0</td>\n",
       "      <td>360.0</td>\n",
       "      <td>1.0</td>\n",
       "      <td>Rural</td>\n",
       "      <td>Y</td>\n",
       "      <td>4.875197</td>\n",
       "      <td>4394.0</td>\n",
       "      <td>8.387995</td>\n",
       "    </tr>\n",
       "    <tr>\n",
       "      <th>79</th>\n",
       "      <td>LP001264</td>\n",
       "      <td>Male</td>\n",
       "      <td>Yes</td>\n",
       "      <td>3+</td>\n",
       "      <td>Not Graduate</td>\n",
       "      <td>Yes</td>\n",
       "      <td>3333</td>\n",
       "      <td>2166.0</td>\n",
       "      <td>130.0</td>\n",
       "      <td>360.0</td>\n",
       "      <td>1.0</td>\n",
       "      <td>Semiurban</td>\n",
       "      <td>Y</td>\n",
       "      <td>4.867534</td>\n",
       "      <td>5499.0</td>\n",
       "      <td>8.612322</td>\n",
       "    </tr>\n",
       "    <tr>\n",
       "      <th>289</th>\n",
       "      <td>LP001935</td>\n",
       "      <td>Male</td>\n",
       "      <td>No</td>\n",
       "      <td>0</td>\n",
       "      <td>Graduate</td>\n",
       "      <td>No</td>\n",
       "      <td>9508</td>\n",
       "      <td>0.0</td>\n",
       "      <td>187.0</td>\n",
       "      <td>360.0</td>\n",
       "      <td>1.0</td>\n",
       "      <td>Rural</td>\n",
       "      <td>Y</td>\n",
       "      <td>5.231109</td>\n",
       "      <td>9508.0</td>\n",
       "      <td>9.159889</td>\n",
       "    </tr>\n",
       "    <tr>\n",
       "      <th>462</th>\n",
       "      <td>LP002487</td>\n",
       "      <td>Male</td>\n",
       "      <td>Yes</td>\n",
       "      <td>0</td>\n",
       "      <td>Graduate</td>\n",
       "      <td>No</td>\n",
       "      <td>3015</td>\n",
       "      <td>2188.0</td>\n",
       "      <td>153.0</td>\n",
       "      <td>360.0</td>\n",
       "      <td>1.0</td>\n",
       "      <td>Rural</td>\n",
       "      <td>Y</td>\n",
       "      <td>5.030438</td>\n",
       "      <td>5203.0</td>\n",
       "      <td>8.556991</td>\n",
       "    </tr>\n",
       "    <tr>\n",
       "      <th>204</th>\n",
       "      <td>LP001691</td>\n",
       "      <td>Male</td>\n",
       "      <td>Yes</td>\n",
       "      <td>2</td>\n",
       "      <td>Not Graduate</td>\n",
       "      <td>No</td>\n",
       "      <td>3917</td>\n",
       "      <td>0.0</td>\n",
       "      <td>124.0</td>\n",
       "      <td>360.0</td>\n",
       "      <td>1.0</td>\n",
       "      <td>Semiurban</td>\n",
       "      <td>Y</td>\n",
       "      <td>4.820282</td>\n",
       "      <td>3917.0</td>\n",
       "      <td>8.273081</td>\n",
       "    </tr>\n",
       "  </tbody>\n",
       "</table>\n",
       "</div>"
      ],
      "text/plain": [
       "      Loan_ID Gender Married Dependents     Education Self_Employed  \\\n",
       "485  LP002544   Male     Yes          1  Not Graduate            No   \n",
       "79   LP001264   Male     Yes         3+  Not Graduate           Yes   \n",
       "289  LP001935   Male      No          0      Graduate            No   \n",
       "462  LP002487   Male     Yes          0      Graduate            No   \n",
       "204  LP001691   Male     Yes          2  Not Graduate            No   \n",
       "\n",
       "     ApplicantIncome  CoapplicantIncome  LoanAmount  Loan_Amount_Term  \\\n",
       "485             1958             2436.0       131.0             360.0   \n",
       "79              3333             2166.0       130.0             360.0   \n",
       "289             9508                0.0       187.0             360.0   \n",
       "462             3015             2188.0       153.0             360.0   \n",
       "204             3917                0.0       124.0             360.0   \n",
       "\n",
       "     Credit_History Property_Area Loan_Status  logamount  Totalincome  \\\n",
       "485             1.0         Rural           Y   4.875197       4394.0   \n",
       "79              1.0     Semiurban           Y   4.867534       5499.0   \n",
       "289             1.0         Rural           Y   5.231109       9508.0   \n",
       "462             1.0         Rural           Y   5.030438       5203.0   \n",
       "204             1.0     Semiurban           Y   4.820282       3917.0   \n",
       "\n",
       "     totalincome_log  \n",
       "485         8.387995  \n",
       "79          8.612322  \n",
       "289         9.159889  \n",
       "462         8.556991  \n",
       "204         8.273081  "
      ]
     },
     "execution_count": 35,
     "metadata": {},
     "output_type": "execute_result"
    }
   ],
   "source": [
    "new_df.head()"
   ]
  },
  {
   "cell_type": "code",
   "execution_count": 17,
   "id": "ebdc6f64",
   "metadata": {},
   "outputs": [
    {
     "data": {
      "text/plain": [
       "Loan_Status\n",
       "Y    192\n",
       "N    192\n",
       "Name: count, dtype: int64"
      ]
     },
     "execution_count": 17,
     "metadata": {},
     "output_type": "execute_result"
    }
   ],
   "source": [
    "new_df[\"Loan_Status\"].value_counts()"
   ]
  },
  {
   "cell_type": "code",
   "execution_count": 36,
   "id": "f684f5da",
   "metadata": {},
   "outputs": [],
   "source": [
    "from sklearn.model_selection import train_test_split\n",
    "from sklearn.preprocessing import LabelEncoder\n",
    "x=new_df.iloc[:,[1,2,3,4,9,10,13,14]]\n",
    "y=new_df.iloc[:,12]\n",
    "x_train,x_test,y_train,y_test=train_test_split(x,y,test_size=0.2,random_state=123)\n",
    "lb=LabelEncoder()"
   ]
  },
  {
   "cell_type": "code",
   "execution_count": 40,
   "id": "afbb4a0b",
   "metadata": {},
   "outputs": [],
   "source": [
    "import pickle\n",
    "import pandas as pd\n",
    "from sklearn.ensemble import RandomForestClassifier\n",
    "from sklearn.compose import ColumnTransformer\n",
    "from sklearn.pipeline import Pipeline\n",
    "from sklearn.preprocessing import StandardScaler, OneHotEncoder\n",
    "\n",
    "# Define features\n",
    "numeric_features = ['Dependents', 'Loan_Amount_Term', 'Credit_History', 'logamount', 'Totalincome']\n",
    "numeric_transformer = Pipeline(steps=[\n",
    "    ('scaler', StandardScaler())\n",
    "])\n",
    "\n",
    "categorical_features = [\"Gender\", \"Married\", \"Education\"]\n",
    "categorical_transformer = Pipeline(steps=[\n",
    "    ('onehot', OneHotEncoder(handle_unknown='ignore'))\n",
    "])\n",
    "\n",
    "# Replace '3+' with 3 (or another appropriate numeric value)\n",
    "x_train['Dependents'] = x_train['Dependents'].replace('3+', 3).astype(float)\n",
    "\n",
    "# Ensure all numeric features are indeed numeric\n",
    "x_train[numeric_features] = x_train[numeric_features].apply(pd.to_numeric, errors='coerce')\n",
    "\n",
    "# Combine transformations\n",
    "preprocessor = ColumnTransformer(\n",
    "    transformers=[\n",
    "        ('num', numeric_transformer, numeric_features),\n",
    "        ('cat', categorical_transformer, categorical_features)\n",
    "    ])\n",
    "\n",
    "# Create a pipeline with preprocessing and RandomForestClassifier\n",
    "random_forest_model = Pipeline(steps=[('preprocessor', preprocessor),\n",
    "                                      ('classifier', RandomForestClassifier())])\n",
    "\n",
    "# Train the model\n",
    "random_forest_model.fit(x_train, y_train)\n",
    "\n",
    "# Save the trained model\n",
    "with open('random_forest_model.pkl', 'wb') as file:\n",
    "    pickle.dump(random_forest_model, file)\n"
   ]
  },
  {
   "cell_type": "code",
   "execution_count": null,
   "id": "c0e2df06",
   "metadata": {},
   "outputs": [],
   "source": [
    "import tkinter as tk\n",
    "from tkinter.ttk import Combobox\n",
    "import pandas as pd\n",
    "import pickle\n",
    "\n",
    "# Load the trained model\n",
    "with open('logisticmodel.pkl', 'rb') as file:\n",
    "    logisticmodel = pickle.load(file)\n",
    "\n",
    "# Load Excel data (replace with your actual file path)\n",
    "df2 = pd.read_excel(\"C:\\\\Users\\\\91939\\\\Downloads\\\\Copy of loan.xlsx\")\n",
    "\n",
    "# Define unique values for dropdowns\n",
    "genders = list(df[\"Gender\"].unique())\n",
    "married_status = list(df['Married'].unique())\n",
    "dependents = list(df['Dependents'].unique())\n",
    "educations = list(df['Education'].unique())\n",
    "loan_amount_terms = list(df['Loan_Amount_Term'].unique())\n",
    "credit_histories = list(df['Credit_History'].unique())\n",
    "log_amounts = list(df['logamount'].unique())\n",
    "total_incomes = list(df['Totalincome'].unique())\n",
    "\n",
    "def predict_output():\n",
    "    gender = gender_var.get()\n",
    "    married = married_var.get()\n",
    "    dependents_value = int(dependents_var.get())\n",
    "    education = education_var.get()\n",
    "    loan_amount_term = float(loanamount_var.get())  # Use float() for floating-point numbers\n",
    "    credit_history = int(float(credithistory_var.get()))  # Convert to float first, then to int\n",
    "    log_amount = float(logamount_var.get())  # Use float() for floating-point numbers\n",
    "    total_income = float(totalincome_var.get())  # Use float() for floating-point numbers\n",
    "\n",
    "    input_data = pd.DataFrame([[gender, married, dependents_value, education, loan_amount_term, credit_history, log_amount, total_income]], \n",
    "                              columns=['Gender', 'Married', 'Dependents', 'Education', 'Loan_Amount_Term', 'Credit_History', 'logamount', 'Totalincome'])\n",
    "    \n",
    "    prediction = logisticmodel.predict(input_data)[0]\n",
    "    if prediction==\"Y\":\n",
    "        o=\"YES\"\n",
    "        lbn.config(text=f\"Prediction: {o}\")\n",
    "    else:\n",
    "        o=\"NO\"\n",
    "        lbn.config(text=f\"Prediction: {o}\")\n",
    "\n",
    "\n",
    "# Initialize Tkinter\n",
    "root = tk.Tk()\n",
    "root.title(\"Loan Approval Prediction\")\n",
    "root.configure(bg=\"#E0FFFF\")\n",
    "\n",
    "img= tk.PhotoImage(file=\"C:\\\\Users\\\\91939\\\\Downloads\\\\Loan_Prediction.png\")\n",
    "myimage = tk.Label(root, image=img)\n",
    "myimage.place(x=0,y=150,height=480,width=800)\n",
    "\n",
    "head=tk.Label(root,text=\"loan Approval Prediction\",font=\"Arial 50\",bg=\"#E0FFFF\")\n",
    "head.place(x=0,y=0,width=1600)\n",
    "\n",
    "\n",
    "\n",
    "# Entries Frame\n",
    "entries = tk.Frame(root, width=600, height=600,bg=\"#E0FFFF\")\n",
    "entries.place(x=800, y=200)\n",
    "\n",
    "# Widgets\n",
    "tk.Label(entries, text=\"Gender\", font=\"Arial 13\").place(x=30, y=0)\n",
    "gender_var = tk.StringVar()\n",
    "gender_cmb = Combobox(entries, textvariable=gender_var, values=genders)\n",
    "gender_cmb.place(x=30, y=30)\n",
    "\n",
    "tk.Label(entries, text=\"Marital status\", font=\"Arial 13\").place(x=400, y=0)\n",
    "married_var = tk.StringVar()\n",
    "married_cmb = Combobox(entries, textvariable=married_var, values=married_status)\n",
    "married_cmb.place(x=400, y=30)\n",
    "\n",
    "tk.Label(entries, text=\"Dependents\", font=\"Arial 13\").place(x=30, y=60)\n",
    "dependents_var = tk.StringVar()\n",
    "dependents_cmb = Combobox(entries, textvariable=dependents_var, values=dependents)\n",
    "dependents_cmb.place(x=30, y=90)\n",
    "\n",
    "tk.Label(entries, text=\"Education\", font=\"Arial 13\").place(x=400, y=60)\n",
    "education_var = tk.StringVar()\n",
    "education_cmb = Combobox(entries, textvariable=education_var, values=educations)\n",
    "education_cmb.place(x=400, y=90)\n",
    "\n",
    "tk.Label(entries, text=\"Loan Amount Term\", font=\"Arial 13\").place(x=30, y=120)\n",
    "loanamount_var = tk.StringVar()\n",
    "loanamount_cmb = Combobox(entries, textvariable=loanamount_var, values=loan_amount_terms)\n",
    "loanamount_cmb.place(x=30, y=150)\n",
    "\n",
    "tk.Label(entries, text=\"Credit History\", font=\"Arial 13\").place(x=400, y=120)\n",
    "credithistory_var = tk.StringVar()\n",
    "credithistory_cmb = Combobox(entries, textvariable=credithistory_var, values=credit_histories)\n",
    "credithistory_cmb.place(x=400, y=150)\n",
    "\n",
    "tk.Label(entries, text=\"Log Amount\", font=\"Arial 13\").place(x=30, y=180)\n",
    "logamount_var = tk.StringVar()\n",
    "logamount_cmb = Combobox(entries, textvariable=logamount_var, values=log_amounts)\n",
    "logamount_cmb.place(x=30, y=210)\n",
    "\n",
    "tk.Label(entries, text=\"Total Income\", font=\"Arial 13\").place(x=400, y=180)\n",
    "totalincome_var = tk.StringVar()\n",
    "totalincome_cmb = Combobox(entries, textvariable=totalincome_var, values=total_incomes)\n",
    "totalincome_cmb.place(x=400, y=210)\n",
    "\n",
    "# Prediction Label\n",
    "lbn = tk.Label(entries, text=\"\", font=\"Arial 20\")\n",
    "lbn.place(x=200, y=350)\n",
    "\n",
    "# Predict Button\n",
    "btn = tk.Button(entries, text=\"PREDICT\", bg=\"pink\", command=predict_output)\n",
    "btn.place(x=200, y=400, width=200, height=50)\n",
    "\n",
    "# Run the GUI\n",
    "root.mainloop()\n"
   ]
  },
  {
   "cell_type": "code",
   "execution_count": null,
   "id": "d05b44a0",
   "metadata": {},
   "outputs": [],
   "source": []
  }
 ],
 "metadata": {
  "kernelspec": {
   "display_name": "Python 3 (ipykernel)",
   "language": "python",
   "name": "python3"
  },
  "language_info": {
   "codemirror_mode": {
    "name": "ipython",
    "version": 3
   },
   "file_extension": ".py",
   "mimetype": "text/x-python",
   "name": "python",
   "nbconvert_exporter": "python",
   "pygments_lexer": "ipython3",
   "version": "3.11.4"
  }
 },
 "nbformat": 4,
 "nbformat_minor": 5
}
